{
 "cells": [
  {
   "cell_type": "markdown",
   "metadata": {},
   "source": [
    "# ADS 2017. Homework 1"
   ]
  },
  {
   "cell_type": "markdown",
   "metadata": {},
   "source": [
    "### Question (1): (10pt)\n",
    "\n",
    "Suppose that the independent variable $x$ has n observations: $(x_1,x_2,...x_n)$ and the dependent variable $y$ has corresponding observations: $(y_1, y_2,...,y_n)$. If the correlation between these two sequences $corr(x,y)=0.02$, which of the following statements are true? Please select all the right answers.\n",
    "\n",
    "(a) There should be no strong relation between $x$ and $y$.\n",
    "\n",
    "(b) If we build a linear regression between $y$ and $x$ as $y=wx$, we could conclude that the OLS estimation for $w$ should be around 0.02.\n",
    "\n",
    "(c) There could be some strong linear relationship between $x$ and $y$.\n",
    "\n",
    "**(d) Certain relation between $x$ and $y$ could still exist, but it should be non-linear.**\n",
    "\n",
    "***'d' is the only correct answer***"
   ]
  },
  {
   "cell_type": "markdown",
   "metadata": {},
   "source": [
    "### Question (2): (10pt)\n",
    "\n"
   ]
  },
  {
   "cell_type": "markdown",
   "metadata": {},
   "source": [
    "Consider a model\n",
    "\n",
    "$y=x^{b}$ where $b>0$. \n",
    "\n",
    "Now, suppose x triples (originally $x>0$). How would y change with respect to this change of x? Let us denote new $y$ as $y'$. Please select all the right answers from below. \n",
    "\n",
    "**(a) $y'<3y$ if b is less than one.**\n",
    "\n",
    "(b) $y'=3y$ in any case.\n",
    "\n",
    "(c) $y'$ increases by $(2^b-1)*100\\%$.\n",
    "\n",
    "**(d) $y'>3y$ if b is bigger than one.**\n",
    "\n",
    "***'a' & 'd' are both correct answers***"
   ]
  },
  {
   "cell_type": "code",
   "execution_count": 35,
   "metadata": {
    "collapsed": false
   },
   "outputs": [
    {
     "name": "stdout",
     "output_type": "stream",
     "text": [
      "1.5104333250850783\n",
      "1.4939303368769843\n"
     ]
    }
   ],
   "source": [
    "x = .5\n",
    "b = .99\n",
    "y = x**b\n",
    "y1 = (3*x)**b\n",
    "print(3*y)\n",
    "print(y1)"
   ]
  },
  {
   "cell_type": "code",
   "execution_count": 174,
   "metadata": {
    "collapsed": true
   },
   "outputs": [],
   "source": [
    "import pandas as pd\n",
    "import numpy as np\n",
    "import statsmodels.formula.api as smf\n",
    "import matplotlib.pylab as plt\n",
    "import seaborn\n",
    "%matplotlib inline"
   ]
  },
  {
   "cell_type": "markdown",
   "metadata": {},
   "source": [
    "### Question (3): (30 pt)\n"
   ]
  },
  {
   "cell_type": "code",
   "execution_count": 36,
   "metadata": {
    "collapsed": true
   },
   "outputs": [],
   "source": [
    "x=[0, 1, 2, 3, 4, 5, 6, 7, 8, 9, 10, 11, 12, 13, 14, 15, 16, 17, 18, 19]"
   ]
  },
  {
   "cell_type": "code",
   "execution_count": 37,
   "metadata": {
    "collapsed": true
   },
   "outputs": [],
   "source": [
    "y=[14.0, 12.0, 18.0, -4.0, 14.0, 35.0, 45.0, 30.0, 50.0, 54.0, 58.0, \n",
    "   55.0, 57.0, 62.0, 61.0, 83.0, 85.0, 106.0, 105.0, 104.0]"
   ]
  },
  {
   "cell_type": "markdown",
   "metadata": {},
   "source": [
    "#### (a) Calculate corr(x,y) without using a build-in function for the correlation coefficient."
   ]
  },
  {
   "cell_type": "code",
   "execution_count": 143,
   "metadata": {
    "collapsed": false
   },
   "outputs": [
    {
     "name": "stdout",
     "output_type": "stream",
     "text": [
      "corr(x,y) = 0.9563\n"
     ]
    }
   ],
   "source": [
    "data = pd.DataFrame([list(x),list(y)], index=['x','y']).T\n",
    "std_x = data.x.std()\n",
    "std_y = data.y.std()\n",
    "cov_xy = data.cov()['x']['y']\n",
    "corr_xy = cov_xy / (std_x * std_y)\n",
    "print('corr(x,y) = {:,.4f}'.format(corr_xy))"
   ]
  },
  {
   "cell_type": "markdown",
   "metadata": {},
   "source": [
    "#### (b) Estimate linear model $y=w_1*x+w_0$ using OLS formulas and without using build-in functions for the linear regression. What is  $w_1$ and $w_0$? What is $R^2$?"
   ]
  },
  {
   "cell_type": "code",
   "execution_count": 144,
   "metadata": {
    "collapsed": false
   },
   "outputs": [
    {
     "name": "stdout",
     "output_type": "stream",
     "text": [
      "w0 is: 1.9571 \n",
      "w1 is: 5.2887\n",
      "r_squared is: 0.915\n"
     ]
    }
   ],
   "source": [
    "#update dataframe with stats needed for calculation\n",
    "data.loc[:,\"x_squared\"] = data.x * data.x\n",
    "data.loc[:,\"xy\"]= data.x * data.y\n",
    "data.loc[:,\"prediction\"]= w1 * data.x + w0\n",
    "data.loc[:,\"error\"]= data.y - data.prediction\n",
    "\n",
    "#calculate intercept, slope and r_squared\n",
    "w1 = (data.xy.sum() - data.y.sum() * data.x.sum() / len(data)) / (data.x_squared.sum() - data.x.sum() * data.x.sum() / len(data))\n",
    "w0 = (data.y - data.x * w1).mean()\n",
    "r_squared = 1 - (data.error**2).sum() / ((data.y - data.y.mean())**2).sum()\n",
    "\n",
    "print(\"w0 is: {:,.4f} \\nw1 is: {:,.4f}\\nr_squared is: {:,.3f}\".format(w0, w1, r_squared))"
   ]
  },
  {
   "cell_type": "markdown",
   "metadata": {},
   "source": [
    "#### (c) Use regression function to double check your answer making sure that your calculation is correct. "
   ]
  },
  {
   "cell_type": "code",
   "execution_count": 147,
   "metadata": {
    "collapsed": false
   },
   "outputs": [
    {
     "name": "stdout",
     "output_type": "stream",
     "text": [
      "                            OLS Regression Results                            \n",
      "==============================================================================\n",
      "Dep. Variable:                      y   R-squared:                       0.915\n",
      "Model:                            OLS   Adj. R-squared:                  0.910\n",
      "Method:                 Least Squares   F-statistic:                     192.6\n",
      "Date:                Fri, 06 Oct 2017   Prob (F-statistic):           4.71e-11\n",
      "Time:                        12:48:07   Log-Likelihood:                -73.031\n",
      "No. Observations:                  20   AIC:                             150.1\n",
      "Df Residuals:                      18   BIC:                             152.1\n",
      "Df Model:                           1                                         \n",
      "Covariance Type:            nonrobust                                         \n",
      "==============================================================================\n",
      "                 coef    std err          t      P>|t|      [95.0% Conf. Int.]\n",
      "------------------------------------------------------------------------------\n",
      "Intercept      1.9571      4.236      0.462      0.650        -6.941    10.856\n",
      "x              5.2887      0.381     13.876      0.000         4.488     6.089\n",
      "==============================================================================\n",
      "Omnibus:                        1.554   Durbin-Watson:                   1.493\n",
      "Prob(Omnibus):                  0.460   Jarque-Bera (JB):                1.245\n",
      "Skew:                          -0.572   Prob(JB):                        0.537\n",
      "Kurtosis:                       2.569   Cond. No.                         21.5\n",
      "==============================================================================\n",
      "\n",
      "Warnings:\n",
      "[1] Standard Errors assume that the covariance matrix of the errors is correctly specified.\n",
      "\n",
      "Everything seems to match!\n"
     ]
    }
   ],
   "source": [
    "lm = smf.ols(formula='y ~ x', data = data).fit()\n",
    "print(lm.summary())\n",
    "print(\"\\nEverything seems to match!\")"
   ]
  },
  {
   "cell_type": "markdown",
   "metadata": {},
   "source": [
    "### Question (4): (30pt) "
   ]
  },
  {
   "cell_type": "markdown",
   "metadata": {},
   "source": [
    "For the data below estimate a model: AssessTot = w* LotArea (with and without intercept)\n",
    "\n",
    "LotArea: Total area of the tax lot\n",
    "\n",
    "AssessTot: The actual assessed total value of Final Year 2015"
   ]
  },
  {
   "cell_type": "code",
   "execution_count": 215,
   "metadata": {
    "collapsed": true
   },
   "outputs": [],
   "source": [
    "data_4=pd.read_csv(\"Housing_Pluto_Session2.csv\")"
   ]
  },
  {
   "cell_type": "code",
   "execution_count": 216,
   "metadata": {
    "collapsed": false
   },
   "outputs": [
    {
     "data": {
      "text/html": [
       "<div>\n",
       "<table border=\"1\" class=\"dataframe\">\n",
       "  <thead>\n",
       "    <tr style=\"text-align: right;\">\n",
       "      <th></th>\n",
       "      <th>ZipCode</th>\n",
       "      <th>LotArea</th>\n",
       "      <th>AssessTot</th>\n",
       "    </tr>\n",
       "  </thead>\n",
       "  <tbody>\n",
       "    <tr>\n",
       "      <th>0</th>\n",
       "      <td>11201.0</td>\n",
       "      <td>126975</td>\n",
       "      <td>3922200</td>\n",
       "    </tr>\n",
       "    <tr>\n",
       "      <th>1</th>\n",
       "      <td>11201.0</td>\n",
       "      <td>52600</td>\n",
       "      <td>1359900</td>\n",
       "    </tr>\n",
       "    <tr>\n",
       "      <th>2</th>\n",
       "      <td>11201.0</td>\n",
       "      <td>17700</td>\n",
       "      <td>656100</td>\n",
       "    </tr>\n",
       "    <tr>\n",
       "      <th>3</th>\n",
       "      <td>NaN</td>\n",
       "      <td>31200</td>\n",
       "      <td>18326711</td>\n",
       "    </tr>\n",
       "    <tr>\n",
       "      <th>4</th>\n",
       "      <td>11201.0</td>\n",
       "      <td>16307</td>\n",
       "      <td>0</td>\n",
       "    </tr>\n",
       "  </tbody>\n",
       "</table>\n",
       "</div>"
      ],
      "text/plain": [
       "   ZipCode  LotArea  AssessTot\n",
       "0  11201.0   126975    3922200\n",
       "1  11201.0    52600    1359900\n",
       "2  11201.0    17700     656100\n",
       "3      NaN    31200   18326711\n",
       "4  11201.0    16307          0"
      ]
     },
     "execution_count": 216,
     "metadata": {},
     "output_type": "execute_result"
    }
   ],
   "source": [
    "data_4.head()"
   ]
  },
  {
   "cell_type": "markdown",
   "metadata": {},
   "source": [
    "#### (a). As we see, this data set is not clean.  Drop all the rows which contain \"NaN\" and 0 terms."
   ]
  },
  {
   "cell_type": "code",
   "execution_count": 217,
   "metadata": {
    "collapsed": false
   },
   "outputs": [
    {
     "data": {
      "text/html": [
       "<div>\n",
       "<table border=\"1\" class=\"dataframe\">\n",
       "  <thead>\n",
       "    <tr style=\"text-align: right;\">\n",
       "      <th></th>\n",
       "      <th>ZipCode</th>\n",
       "      <th>LotArea</th>\n",
       "      <th>AssessTot</th>\n",
       "    </tr>\n",
       "  </thead>\n",
       "  <tbody>\n",
       "    <tr>\n",
       "      <th>0</th>\n",
       "      <td>11201.0</td>\n",
       "      <td>126975</td>\n",
       "      <td>3922200</td>\n",
       "    </tr>\n",
       "    <tr>\n",
       "      <th>1</th>\n",
       "      <td>11201.0</td>\n",
       "      <td>52600</td>\n",
       "      <td>1359900</td>\n",
       "    </tr>\n",
       "    <tr>\n",
       "      <th>2</th>\n",
       "      <td>11201.0</td>\n",
       "      <td>17700</td>\n",
       "      <td>656100</td>\n",
       "    </tr>\n",
       "    <tr>\n",
       "      <th>4</th>\n",
       "      <td>11201.0</td>\n",
       "      <td>16307</td>\n",
       "      <td>0</td>\n",
       "    </tr>\n",
       "    <tr>\n",
       "      <th>5</th>\n",
       "      <td>11201.0</td>\n",
       "      <td>8120</td>\n",
       "      <td>5976000</td>\n",
       "    </tr>\n",
       "  </tbody>\n",
       "</table>\n",
       "</div>"
      ],
      "text/plain": [
       "   ZipCode  LotArea  AssessTot\n",
       "0  11201.0   126975    3922200\n",
       "1  11201.0    52600    1359900\n",
       "2  11201.0    17700     656100\n",
       "4  11201.0    16307          0\n",
       "5  11201.0     8120    5976000"
      ]
     },
     "execution_count": 217,
     "metadata": {},
     "output_type": "execute_result"
    }
   ],
   "source": [
    "data_4 = data_4.dropna(axis=0, how='any')\n",
    "data_4.head()"
   ]
  },
  {
   "cell_type": "markdown",
   "metadata": {},
   "source": [
    "#### (b). Visualize the data set."
   ]
  },
  {
   "cell_type": "code",
   "execution_count": 218,
   "metadata": {
    "collapsed": false
   },
   "outputs": [
    {
     "name": "stderr",
     "output_type": "stream",
     "text": [
      "/Users/alexandershannon/anaconda/lib/python3.6/site-packages/ipykernel/__main__.py:7: RuntimeWarning: divide by zero encountered in log\n"
     ]
    },
    {
     "data": {
      "text/plain": [
       "<matplotlib.text.Text at 0x1393c1780>"
      ]
     },
     "execution_count": 218,
     "metadata": {},
     "output_type": "execute_result"
    },
    {
     "data": {
      "image/png": "[encoded data removed]",
      "text/plain": [
       "<matplotlib.figure.Figure at 0x140ab7c50>"
      ]
     },
     "metadata": {},
     "output_type": "display_data"
    }
   ],
   "source": [
    "plt.figure(figsize=(12, 6))\n",
    "plt.subplot(1, 2, 1)\n",
    "ax1 = plt.plot(data_4.LotArea, data_4.AssessTot, 'go')\n",
    "plt.xlabel('Lot Area')\n",
    "plt.ylabel('Total Assessment')\n",
    "plt.subplot(1, 2, 2)\n",
    "ax2 = plt.plot(np.log(data_4.LotArea), np.log(data_4.AssessTot), 'o')\n",
    "plt.xlabel('log(Lot Area)')\n",
    "plt.ylabel('log(Total Assessment)')"
   ]
  },
  {
   "cell_type": "markdown",
   "metadata": {},
   "source": [
    "#### (c).  Build a model : AssessTot=$w_1$*LotArea + $w_2$. Get $w_1$, $w_2$ and $R^2$.  Plot your results together with observations. "
   ]
  },
  {
   "cell_type": "code",
   "execution_count": 219,
   "metadata": {
    "collapsed": false
   },
   "outputs": [
    {
     "name": "stdout",
     "output_type": "stream",
     "text": [
      "                            OLS Regression Results                            \n",
      "==============================================================================\n",
      "Dep. Variable:              AssessTot   R-squared:                       0.383\n",
      "Model:                            OLS   Adj. R-squared:                  0.383\n",
      "Method:                 Least Squares   F-statistic:                 1.719e+05\n",
      "Date:                Fri, 06 Oct 2017   Prob (F-statistic):               0.00\n",
      "Time:                        13:40:19   Log-Likelihood:            -4.6370e+06\n",
      "No. Observations:              276884   AIC:                         9.274e+06\n",
      "Df Residuals:                  276882   BIC:                         9.274e+06\n",
      "Df Model:                           1                                         \n",
      "Covariance Type:            nonrobust                                         \n",
      "==============================================================================\n",
      "                 coef    std err          t      P>|t|      [95.0% Conf. Int.]\n",
      "------------------------------------------------------------------------------\n",
      "Intercept   7.549e+04   8630.783      8.746      0.000      5.86e+04  9.24e+04\n",
      "LotArea       21.0785      0.051    414.557      0.000        20.979    21.178\n",
      "==============================================================================\n",
      "Omnibus:                  1269540.063   Durbin-Watson:                   2.280\n",
      "Prob(Omnibus):                  0.000   Jarque-Bera (JB):   61086095251344.812\n",
      "Skew:                         158.912   Prob(JB):                         0.00\n",
      "Kurtosis:                   72768.201   Cond. No.                     1.70e+05\n",
      "==============================================================================\n",
      "\n",
      "Warnings:\n",
      "[1] Standard Errors assume that the covariance matrix of the errors is correctly specified.\n",
      "[2] The condition number is large, 1.7e+05. This might indicate that there are\n",
      "strong multicollinearity or other numerical problems.\n"
     ]
    },
    {
     "data": {
      "text/plain": [
       "<matplotlib.text.Text at 0x140ae6a20>"
      ]
     },
     "execution_count": 219,
     "metadata": {},
     "output_type": "execute_result"
    },
    {
     "data": {
      "image/png": "[encoded data removed]",
      "text/plain": [
       "<matplotlib.figure.Figure at 0x128108ac8>"
      ]
     },
     "metadata": {},
     "output_type": "display_data"
    }
   ],
   "source": [
    "lm = smf.ols(formula='AssessTot ~ LotArea', data = data_4).fit()\n",
    "print(lm.summary())\n",
    "\n",
    "plt.figure(figsize=(8, 6))\n",
    "ax1 = plt.plot(data_4.LotArea, data_4.AssessTot, 'go')\n",
    "plt.plot(data_4.LotArea,lm.predict(),'r-')\n",
    "plt.xlabel('Lot Area')\n",
    "plt.ylabel('Total Assessment')"
   ]
  },
  {
   "cell_type": "markdown",
   "metadata": {},
   "source": [
    "#### (d) Repeat (c) without intercept, i.e. with $w_2=0$."
   ]
  },
  {
   "cell_type": "code",
   "execution_count": 222,
   "metadata": {
    "collapsed": false
   },
   "outputs": [
    {
     "name": "stdout",
     "output_type": "stream",
     "text": [
      "                            OLS Regression Results                            \n",
      "==============================================================================\n",
      "Dep. Variable:              AssessTot   R-squared:                       0.383\n",
      "Model:                            OLS   Adj. R-squared:                  0.383\n",
      "Method:                 Least Squares   F-statistic:                 1.722e+05\n",
      "Date:                Fri, 06 Oct 2017   Prob (F-statistic):               0.00\n",
      "Time:                        13:40:43   Log-Likelihood:            -4.6371e+06\n",
      "No. Observations:              276884   AIC:                         9.274e+06\n",
      "Df Residuals:                  276883   BIC:                         9.274e+06\n",
      "Df Model:                           1                                         \n",
      "Covariance Type:            nonrobust                                         \n",
      "==============================================================================\n",
      "                 coef    std err          t      P>|t|      [95.0% Conf. Int.]\n",
      "------------------------------------------------------------------------------\n",
      "LotArea       21.0921      0.051    414.961      0.000        20.992    21.192\n",
      "==============================================================================\n",
      "Omnibus:                  1268834.102   Durbin-Watson:                   2.279\n",
      "Prob(Omnibus):                  0.000   Jarque-Bera (JB):   60967622637154.703\n",
      "Skew:                         158.608   Prob(JB):                         0.00\n",
      "Kurtosis:                   72697.606   Cond. No.                         1.00\n",
      "==============================================================================\n",
      "\n",
      "Warnings:\n",
      "[1] Standard Errors assume that the covariance matrix of the errors is correctly specified.\n"
     ]
    },
    {
     "data": {
      "text/plain": [
       "<matplotlib.text.Text at 0x1392fbfd0>"
      ]
     },
     "execution_count": 222,
     "metadata": {},
     "output_type": "execute_result"
    },
    {
     "data": {
      "image/png": "[encoded data removed]",
      "text/plain": [
       "<matplotlib.figure.Figure at 0x13b766588>"
      ]
     },
     "metadata": {},
     "output_type": "display_data"
    }
   ],
   "source": [
    "lm2 = smf.ols(formula='AssessTot ~ LotArea-1', data = data_4).fit()\n",
    "print(lm2.summary())\n",
    "\n",
    "plt.figure(figsize=(8, 6))\n",
    "ax1 = plt.plot(data_4.LotArea, data_4.AssessTot, 'go')\n",
    "plt.plot(data_4.LotArea,lm2.predict(),'r-')\n",
    "plt.xlabel('Lot Area')\n",
    "plt.ylabel('Total Assessment')"
   ]
  },
  {
   "cell_type": "markdown",
   "metadata": {
    "collapsed": true
   },
   "source": [
    "### Question (5): (20pt)\n",
    "\n",
    "For the same data as above try the model: log_AssessTot=$w_1$*log_LotArea + $w_2$. Get $w_1$, $w_2$ and $R^2$.  And plot your results together with observations. Explain the result - what does the estimated \"$w_1$\" means to you?"
   ]
  },
  {
   "cell_type": "code",
   "execution_count": 223,
   "metadata": {
    "collapsed": false
   },
   "outputs": [
    {
     "name": "stdout",
     "output_type": "stream",
     "text": [
      "                            OLS Regression Results                            \n",
      "==============================================================================\n",
      "Dep. Variable:      np.log(AssessTot)   R-squared:                       0.491\n",
      "Model:                            OLS   Adj. R-squared:                  0.491\n",
      "Method:                 Least Squares   F-statistic:                 2.659e+05\n",
      "Date:                Fri, 06 Oct 2017   Prob (F-statistic):               0.00\n",
      "Time:                        13:41:27   Log-Likelihood:            -3.4454e+05\n",
      "No. Observations:              275942   AIC:                         6.891e+05\n",
      "Df Residuals:                  275940   BIC:                         6.891e+05\n",
      "Df Model:                           1                                         \n",
      "Covariance Type:            nonrobust                                         \n",
      "===================================================================================\n",
      "                      coef    std err          t      P>|t|      [95.0% Conf. Int.]\n",
      "-----------------------------------------------------------------------------------\n",
      "Intercept           0.2088      0.020     10.345      0.000         0.169     0.248\n",
      "np.log(LotArea)     1.3250      0.003    515.625      0.000         1.320     1.330\n",
      "==============================================================================\n",
      "Omnibus:                    29138.667   Durbin-Watson:                   0.917\n",
      "Prob(Omnibus):                  0.000   Jarque-Bera (JB):           197341.462\n",
      "Skew:                           0.276   Prob(JB):                         0.00\n",
      "Kurtosis:                       7.106   Cond. No.                         100.\n",
      "==============================================================================\n",
      "\n",
      "Warnings:\n",
      "[1] Standard Errors assume that the covariance matrix of the errors is correctly specified.\n"
     ]
    },
    {
     "data": {
      "text/plain": [
       "<matplotlib.text.Text at 0x13949bef0>"
      ]
     },
     "execution_count": 223,
     "metadata": {},
     "output_type": "execute_result"
    },
    {
     "data": {
      "image/png": "[encoded data removed]",
      "text/plain": [
       "<matplotlib.figure.Figure at 0x12944f358>"
      ]
     },
     "metadata": {},
     "output_type": "display_data"
    }
   ],
   "source": [
    "data_5 = data_4[data_4.AssessTot != 0]\n",
    "data_5 = data_5[data_5.LotArea != 0]\n",
    "\n",
    "lm3 = smf.ols(formula='np.log(AssessTot) ~ np.log(LotArea)', data = data_5).fit()\n",
    "print(lm3.summary())\n",
    "\n",
    "plt.figure(figsize=(8, 6))\n",
    "ax2 = plt.plot(np.log(data_5.LotArea), np.log(data_5.AssessTot), 'o')\n",
    "plt.plot(np.log(data_5.LotArea),lm3.predict(),'r-')\n",
    "plt.xlabel('log(Lot Area)')\n",
    "plt.ylabel('log(Total Assessment)')"
   ]
  },
  {
   "cell_type": "markdown",
   "metadata": {},
   "source": [
    "**Interpretation of $w1$: **$w1$ here represents the percent increase in total assessment for every percent increase in lot area. In this case, a 1% increase in lot area corresponds to an approx. 1.32% increase in total assessment, so we could say that there is a super-linear relationship between lot area and total assessment price. "
   ]
  }
 ],
 "metadata": {
  "kernelspec": {
   "display_name": "Python 3",
   "language": "python",
   "name": "python3"
  },
  "language_info": {
   "codemirror_mode": {
    "name": "ipython",
    "version": 3
   },
   "file_extension": ".py",
   "mimetype": "text/x-python",
   "name": "python",
   "nbconvert_exporter": "python",
   "pygments_lexer": "ipython3",
   "version": "3.4.2"
  }
 },
 "nbformat": 4,
 "nbformat_minor": 0
}

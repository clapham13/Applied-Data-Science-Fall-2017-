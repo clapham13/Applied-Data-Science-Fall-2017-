{
 "cells": [
  {
   "cell_type": "markdown",
   "metadata": {},
   "source": [
    "# Homework 02 --- Session 3, Multilinear regression"
   ]
  },
  {
   "cell_type": "markdown",
   "metadata": {
    "collapsed": true
   },
   "source": [
    "## EX 1 Artificial data (25pt -- 5+5+5+10)\n",
    "### Dataset 'H31.csv'\n",
    "### Tasks:\n",
    "Consider a multivariate regression of the output variable $y$ over the 3 regressors $x_1$, $x_2$, $x_3$ as follows.\n",
    "* (a) Which one of the regressors serves as dummy variable corresponding to an intercept term?\n",
    "    * Ignore the first column since it's just a duplicate index (You can avoid it by running **ex1 = pd.read_csv('H31.csv', index_col=0)** )\n",
    "* (b) Calculate the coefficients $\\hat w$ manually or with python *numpy* module by using matrix computation.\n",
    "* (c) Verify your answer by implementing the OLS regression function with python *statsmodels* module.\n",
    "* (d) Visualize the data points and your fitted model in a 3D plot, like we did in the lab session."
   ]
  },
  {
   "cell_type": "code",
   "execution_count": 1,
   "metadata": {
    "collapsed": false
   },
   "outputs": [
    {
     "name": "stdout",
     "output_type": "stream",
     "text": [
      "Populating the interactive namespace from numpy and matplotlib\n"
     ]
    },
    {
     "name": "stderr",
     "output_type": "stream",
     "text": [
      "/opt/rh/anaconda/root/envs/PUI2016_Python2/lib/python2.7/site-packages/IPython/html.py:14: ShimWarning: The `IPython.html` package has been deprecated. You should import from `notebook` instead. `IPython.html.widgets` has moved to `ipywidgets`.\n",
      "  \"`IPython.html.widgets` has moved to `ipywidgets`.\", ShimWarning)\n"
     ]
    }
   ],
   "source": [
    "import numpy as np\n",
    "import pandas as pd\n",
    "import matplotlib.pyplot as plt\n",
    "import seaborn\n",
    "%pylab inline\n",
    "\n",
    "from mpl_toolkits.mplot3d import Axes3D\n",
    "import statsmodels.formula.api as smf"
   ]
  },
  {
   "cell_type": "code",
   "execution_count": 2,
   "metadata": {
    "collapsed": false
   },
   "outputs": [
    {
     "data": {
      "text/html": [
       "<div>\n",
       "<table border=\"1\" class=\"dataframe\">\n",
       "  <thead>\n",
       "    <tr style=\"text-align: right;\">\n",
       "      <th></th>\n",
       "      <th>y</th>\n",
       "      <th>x1</th>\n",
       "      <th>x2</th>\n",
       "      <th>x3</th>\n",
       "    </tr>\n",
       "  </thead>\n",
       "  <tbody>\n",
       "    <tr>\n",
       "      <th>1</th>\n",
       "      <td>0</td>\n",
       "      <td>1</td>\n",
       "      <td>-2</td>\n",
       "      <td>1</td>\n",
       "    </tr>\n",
       "    <tr>\n",
       "      <th>2</th>\n",
       "      <td>2</td>\n",
       "      <td>-1</td>\n",
       "      <td>-1</td>\n",
       "      <td>1</td>\n",
       "    </tr>\n",
       "    <tr>\n",
       "      <th>3</th>\n",
       "      <td>2</td>\n",
       "      <td>0</td>\n",
       "      <td>0</td>\n",
       "      <td>1</td>\n",
       "    </tr>\n",
       "    <tr>\n",
       "      <th>4</th>\n",
       "      <td>3</td>\n",
       "      <td>-1</td>\n",
       "      <td>1</td>\n",
       "      <td>1</td>\n",
       "    </tr>\n",
       "    <tr>\n",
       "      <th>5</th>\n",
       "      <td>3</td>\n",
       "      <td>1</td>\n",
       "      <td>2</td>\n",
       "      <td>1</td>\n",
       "    </tr>\n",
       "  </tbody>\n",
       "</table>\n",
       "</div>"
      ],
      "text/plain": [
       "   y  x1  x2  x3\n",
       "1  0   1  -2   1\n",
       "2  2  -1  -1   1\n",
       "3  2   0   0   1\n",
       "4  3  -1   1   1\n",
       "5  3   1   2   1"
      ]
     },
     "execution_count": 2,
     "metadata": {},
     "output_type": "execute_result"
    }
   ],
   "source": [
    "ex1 = pd.read_csv('H31.csv', index_col=0)\n",
    "ex1.head()"
   ]
  },
  {
   "cell_type": "markdown",
   "metadata": {},
   "source": [
    "(a) Column 'x3' serves as the dummy variable corresponding to the intercept term in this case."
   ]
  },
  {
   "cell_type": "markdown",
   "metadata": {},
   "source": [
    "We have $\\hat{w}=\\left(X^T X\\right )^{-1}X^T Y$, so we will define the matrices as follows:"
   ]
  },
  {
   "cell_type": "code",
   "execution_count": 3,
   "metadata": {
    "collapsed": false
   },
   "outputs": [
    {
     "name": "stdout",
     "output_type": "stream",
     "text": [
      "(b)\n",
      "[[ 2. ]\n",
      " [-0.5]\n",
      " [ 0.7]]\n"
     ]
    }
   ],
   "source": [
    "X = np.matrix(ex1.loc[:,['x3','x1','x2']])\n",
    "Y = np.matrix(ex1.y).T\n",
    "w = (X.T * X).I * X.T * Y\n",
    "print('(b)')\n",
    "print(w)"
   ]
  },
  {
   "cell_type": "code",
   "execution_count": 4,
   "metadata": {
    "collapsed": false
   },
   "outputs": [
    {
     "name": "stdout",
     "output_type": "stream",
     "text": [
      "Intercept    2.0\n",
      "X1[0]       -0.5\n",
      "X1[1]        0.7\n",
      "dtype: float64\n",
      "\n",
      "(c) Yes, these do match our previous results. Hooray!\n"
     ]
    }
   ],
   "source": [
    "X1 = X[:,1:]\n",
    "lm=smf.ols('Y~X1',data=ex1).fit()\n",
    "print(lm.params)\n",
    "print('\\n(c) Yes, these do match our previous results. Hooray!')"
   ]
  },
  {
   "cell_type": "code",
   "execution_count": 5,
   "metadata": {
    "collapsed": false
   },
   "outputs": [
    {
     "name": "stdout",
     "output_type": "stream",
     "text": [
      "(d)\n"
     ]
    },
    {
     "data": {
      "image/png": "[encoded data removed]",
      "text/plain": [
       "<matplotlib.figure.Figure at 0x7f61962aa250>"
      ]
     },
     "metadata": {},
     "output_type": "display_data"
    }
   ],
   "source": [
    "fig = plt.figure(figsize = (12,10))\n",
    "ax = fig.gca(projection='3d')\n",
    "ax.scatter(ex1.x1, ex1.x2, ex1.y, s = 175,  c = 'k')\n",
    "\n",
    "radius = 5\n",
    "x1, x2 = np.meshgrid(range(-radius,radius), range(-radius,radius))\n",
    "fit_y = lm.params[0] + lm.params[1] * x1 + lm.params[2] * x2\n",
    "\n",
    "ax.plot_surface(x1, x2, fit_y, color='c', alpha = 0.3)\n",
    "ax.set_xlabel('$x_1$', fontsize = 20)\n",
    "ax.set_ylabel('$x_2$', fontsize = 20)\n",
    "ax.set_zlabel('$y$', fontsize = 20)\n",
    "\n",
    "ax.view_init(azim = 60)\n",
    "print('(d)')"
   ]
  },
  {
   "cell_type": "markdown",
   "metadata": {},
   "source": [
    "## EX 2, Income vs Insurance coverage (35+10pt -- 10+10+5+10+10)\n",
    "### Dataset 'IncomeInsReg.csv'\n",
    "You are given the demographic data of insurance coverage in NYC, with the details:\n",
    "* Zip code\n",
    "* Per capita income\n",
    "* Total population (for each zip code)\n",
    "* Population with Insurance coverage\n",
    "    * Population with Public Insurance coverage\n",
    "    * Population with Private Insurance coverage\n",
    "* Population with No Insurance coverage\n",
    "\n",
    "### Tasks:\n",
    "* (a) Verify that there are some people with BOTH public insurance and private insurance according to this data set, then create a new column containing such information\n",
    "* (b) Modify the old data frame, or simply create a new one, such that this data frame contains (including but not limited to) the following information in each zipcode area:\n",
    "    * IncomePerCapita\n",
    "    * Total Population\n",
    "    * Population with Public Insurance coverage ONLY\n",
    "    * Population with Private Insurance coverage ONLY\n",
    "    * Population with NO Insurance coverage\n",
    "    * Population with BOTH types of Insurance coverage\n",
    "* (c) Drop rows with NaN (if any) and convert all population counts into proportions (percentage of total population, with the form 58.3 instead of 0.583)\n",
    "* (d) Regress over these proportions (the ones mentioned in part b, leave out \"No Insurance Coverage\") to predict income -- What interesting results do we have here? Briefly state what you've obtained.\n",
    "#### Extra credit:\n",
    "* (e) Visualize the observed income versus the predicted income, like what we did in the lab session. Does this fitted line look great or not? If you're not sure, check the correlation matrix and make a guess."
   ]
  },
  {
   "cell_type": "code",
   "execution_count": 6,
   "metadata": {
    "collapsed": false
   },
   "outputs": [
    {
     "data": {
      "text/html": [
       "<div>\n",
       "<table border=\"1\" class=\"dataframe\">\n",
       "  <thead>\n",
       "    <tr style=\"text-align: right;\">\n",
       "      <th></th>\n",
       "      <th>Zipcode</th>\n",
       "      <th>IncomePerCapita</th>\n",
       "      <th>TotalPop</th>\n",
       "      <th>WithCoverage</th>\n",
       "      <th>Public</th>\n",
       "      <th>Private</th>\n",
       "      <th>NoCoverage</th>\n",
       "    </tr>\n",
       "  </thead>\n",
       "  <tbody>\n",
       "    <tr>\n",
       "      <th>0</th>\n",
       "      <td>10001</td>\n",
       "      <td>77512.0</td>\n",
       "      <td>22767</td>\n",
       "      <td>20809</td>\n",
       "      <td>5800</td>\n",
       "      <td>16795</td>\n",
       "      <td>1958</td>\n",
       "    </tr>\n",
       "    <tr>\n",
       "      <th>1</th>\n",
       "      <td>10002</td>\n",
       "      <td>26905.0</td>\n",
       "      <td>79490</td>\n",
       "      <td>70361</td>\n",
       "      <td>40139</td>\n",
       "      <td>35167</td>\n",
       "      <td>9129</td>\n",
       "    </tr>\n",
       "    <tr>\n",
       "      <th>2</th>\n",
       "      <td>10003</td>\n",
       "      <td>79088.0</td>\n",
       "      <td>56909</td>\n",
       "      <td>53135</td>\n",
       "      <td>8593</td>\n",
       "      <td>48522</td>\n",
       "      <td>3774</td>\n",
       "    </tr>\n",
       "    <tr>\n",
       "      <th>3</th>\n",
       "      <td>10004</td>\n",
       "      <td>98020.0</td>\n",
       "      <td>3024</td>\n",
       "      <td>2780</td>\n",
       "      <td>180</td>\n",
       "      <td>2705</td>\n",
       "      <td>244</td>\n",
       "    </tr>\n",
       "    <tr>\n",
       "      <th>4</th>\n",
       "      <td>10005</td>\n",
       "      <td>99633.0</td>\n",
       "      <td>7566</td>\n",
       "      <td>6996</td>\n",
       "      <td>122</td>\n",
       "      <td>6944</td>\n",
       "      <td>570</td>\n",
       "    </tr>\n",
       "  </tbody>\n",
       "</table>\n",
       "</div>"
      ],
      "text/plain": [
       "   Zipcode  IncomePerCapita  TotalPop  WithCoverage  Public  Private  \\\n",
       "0    10001          77512.0     22767         20809    5800    16795   \n",
       "1    10002          26905.0     79490         70361   40139    35167   \n",
       "2    10003          79088.0     56909         53135    8593    48522   \n",
       "3    10004          98020.0      3024          2780     180     2705   \n",
       "4    10005          99633.0      7566          6996     122     6944   \n",
       "\n",
       "   NoCoverage  \n",
       "0        1958  \n",
       "1        9129  \n",
       "2        3774  \n",
       "3         244  \n",
       "4         570  "
      ]
     },
     "execution_count": 6,
     "metadata": {},
     "output_type": "execute_result"
    }
   ],
   "source": [
    "ex2 = pd.read_csv('IncomeInsReg.csv')\n",
    "ex2.head()"
   ]
  },
  {
   "cell_type": "code",
   "execution_count": 7,
   "metadata": {
    "collapsed": false
   },
   "outputs": [
    {
     "name": "stdout",
     "output_type": "stream",
     "text": [
      "(a)\n"
     ]
    },
    {
     "data": {
      "text/html": [
       "<div>\n",
       "<table border=\"1\" class=\"dataframe\">\n",
       "  <thead>\n",
       "    <tr style=\"text-align: right;\">\n",
       "      <th></th>\n",
       "      <th>Zipcode</th>\n",
       "      <th>IncomePerCapita</th>\n",
       "      <th>TotalPop</th>\n",
       "      <th>WithCoverage</th>\n",
       "      <th>Public</th>\n",
       "      <th>Private</th>\n",
       "      <th>NoCoverage</th>\n",
       "      <th>Both</th>\n",
       "    </tr>\n",
       "  </thead>\n",
       "  <tbody>\n",
       "    <tr>\n",
       "      <th>0</th>\n",
       "      <td>10001</td>\n",
       "      <td>77512.0</td>\n",
       "      <td>22767</td>\n",
       "      <td>20809</td>\n",
       "      <td>5800</td>\n",
       "      <td>16795</td>\n",
       "      <td>1958</td>\n",
       "      <td>1786</td>\n",
       "    </tr>\n",
       "    <tr>\n",
       "      <th>1</th>\n",
       "      <td>10002</td>\n",
       "      <td>26905.0</td>\n",
       "      <td>79490</td>\n",
       "      <td>70361</td>\n",
       "      <td>40139</td>\n",
       "      <td>35167</td>\n",
       "      <td>9129</td>\n",
       "      <td>4945</td>\n",
       "    </tr>\n",
       "    <tr>\n",
       "      <th>2</th>\n",
       "      <td>10003</td>\n",
       "      <td>79088.0</td>\n",
       "      <td>56909</td>\n",
       "      <td>53135</td>\n",
       "      <td>8593</td>\n",
       "      <td>48522</td>\n",
       "      <td>3774</td>\n",
       "      <td>3980</td>\n",
       "    </tr>\n",
       "    <tr>\n",
       "      <th>3</th>\n",
       "      <td>10004</td>\n",
       "      <td>98020.0</td>\n",
       "      <td>3024</td>\n",
       "      <td>2780</td>\n",
       "      <td>180</td>\n",
       "      <td>2705</td>\n",
       "      <td>244</td>\n",
       "      <td>105</td>\n",
       "    </tr>\n",
       "    <tr>\n",
       "      <th>4</th>\n",
       "      <td>10005</td>\n",
       "      <td>99633.0</td>\n",
       "      <td>7566</td>\n",
       "      <td>6996</td>\n",
       "      <td>122</td>\n",
       "      <td>6944</td>\n",
       "      <td>570</td>\n",
       "      <td>70</td>\n",
       "    </tr>\n",
       "  </tbody>\n",
       "</table>\n",
       "</div>"
      ],
      "text/plain": [
       "   Zipcode  IncomePerCapita  TotalPop  WithCoverage  Public  Private  \\\n",
       "0    10001          77512.0     22767         20809    5800    16795   \n",
       "1    10002          26905.0     79490         70361   40139    35167   \n",
       "2    10003          79088.0     56909         53135    8593    48522   \n",
       "3    10004          98020.0      3024          2780     180     2705   \n",
       "4    10005          99633.0      7566          6996     122     6944   \n",
       "\n",
       "   NoCoverage  Both  \n",
       "0        1958  1786  \n",
       "1        9129  4945  \n",
       "2        3774  3980  \n",
       "3         244   105  \n",
       "4         570    70  "
      ]
     },
     "execution_count": 7,
     "metadata": {},
     "output_type": "execute_result"
    }
   ],
   "source": [
    "ex2['Both'] = ex2.Public + ex2.Private - ex2.WithCoverage #create column for people with both public and private insurance\n",
    "print('(a)')\n",
    "ex2.head()"
   ]
  },
  {
   "cell_type": "code",
   "execution_count": 8,
   "metadata": {
    "collapsed": false
   },
   "outputs": [
    {
     "name": "stdout",
     "output_type": "stream",
     "text": [
      "(b)\n"
     ]
    },
    {
     "data": {
      "text/html": [
       "<div>\n",
       "<table border=\"1\" class=\"dataframe\">\n",
       "  <thead>\n",
       "    <tr style=\"text-align: right;\">\n",
       "      <th></th>\n",
       "      <th>Zipcode</th>\n",
       "      <th>IncomePerCapita</th>\n",
       "      <th>TotalPop</th>\n",
       "      <th>Public</th>\n",
       "      <th>Private</th>\n",
       "      <th>NoCoverage</th>\n",
       "      <th>Both</th>\n",
       "    </tr>\n",
       "  </thead>\n",
       "  <tbody>\n",
       "    <tr>\n",
       "      <th>0</th>\n",
       "      <td>10001</td>\n",
       "      <td>77512.0</td>\n",
       "      <td>22767</td>\n",
       "      <td>4014</td>\n",
       "      <td>15009</td>\n",
       "      <td>1958</td>\n",
       "      <td>1786</td>\n",
       "    </tr>\n",
       "    <tr>\n",
       "      <th>1</th>\n",
       "      <td>10002</td>\n",
       "      <td>26905.0</td>\n",
       "      <td>79490</td>\n",
       "      <td>35194</td>\n",
       "      <td>30222</td>\n",
       "      <td>9129</td>\n",
       "      <td>4945</td>\n",
       "    </tr>\n",
       "    <tr>\n",
       "      <th>2</th>\n",
       "      <td>10003</td>\n",
       "      <td>79088.0</td>\n",
       "      <td>56909</td>\n",
       "      <td>4613</td>\n",
       "      <td>44542</td>\n",
       "      <td>3774</td>\n",
       "      <td>3980</td>\n",
       "    </tr>\n",
       "    <tr>\n",
       "      <th>3</th>\n",
       "      <td>10004</td>\n",
       "      <td>98020.0</td>\n",
       "      <td>3024</td>\n",
       "      <td>75</td>\n",
       "      <td>2600</td>\n",
       "      <td>244</td>\n",
       "      <td>105</td>\n",
       "    </tr>\n",
       "    <tr>\n",
       "      <th>4</th>\n",
       "      <td>10005</td>\n",
       "      <td>99633.0</td>\n",
       "      <td>7566</td>\n",
       "      <td>52</td>\n",
       "      <td>6874</td>\n",
       "      <td>570</td>\n",
       "      <td>70</td>\n",
       "    </tr>\n",
       "  </tbody>\n",
       "</table>\n",
       "</div>"
      ],
      "text/plain": [
       "   Zipcode  IncomePerCapita  TotalPop  Public  Private  NoCoverage  Both\n",
       "0    10001          77512.0     22767    4014    15009        1958  1786\n",
       "1    10002          26905.0     79490   35194    30222        9129  4945\n",
       "2    10003          79088.0     56909    4613    44542        3774  3980\n",
       "3    10004          98020.0      3024      75     2600         244   105\n",
       "4    10005          99633.0      7566      52     6874         570    70"
      ]
     },
     "execution_count": 8,
     "metadata": {},
     "output_type": "execute_result"
    }
   ],
   "source": [
    "ex2 = ex2.drop(['WithCoverage'], axis=1)\n",
    "ex2['Public'] = ex2.Public - ex2.Both\n",
    "ex2['Private'] = ex2.Private - ex2.Both\n",
    "print('(b)')\n",
    "ex2.head()"
   ]
  },
  {
   "cell_type": "code",
   "execution_count": 9,
   "metadata": {
    "collapsed": false
   },
   "outputs": [
    {
     "name": "stdout",
     "output_type": "stream",
     "text": [
      "(c)\n"
     ]
    },
    {
     "data": {
      "text/html": [
       "<div>\n",
       "<table border=\"1\" class=\"dataframe\">\n",
       "  <thead>\n",
       "    <tr style=\"text-align: right;\">\n",
       "      <th></th>\n",
       "      <th>Zipcode</th>\n",
       "      <th>IncomePerCapita</th>\n",
       "      <th>TotalPop</th>\n",
       "      <th>Public</th>\n",
       "      <th>Private</th>\n",
       "      <th>NoCoverage</th>\n",
       "      <th>Both</th>\n",
       "    </tr>\n",
       "  </thead>\n",
       "  <tbody>\n",
       "    <tr>\n",
       "      <th>0</th>\n",
       "      <td>10001</td>\n",
       "      <td>77512.0</td>\n",
       "      <td>22767</td>\n",
       "      <td>17.6</td>\n",
       "      <td>65.9</td>\n",
       "      <td>8.6</td>\n",
       "      <td>7.8</td>\n",
       "    </tr>\n",
       "    <tr>\n",
       "      <th>1</th>\n",
       "      <td>10002</td>\n",
       "      <td>26905.0</td>\n",
       "      <td>79490</td>\n",
       "      <td>44.3</td>\n",
       "      <td>38.0</td>\n",
       "      <td>11.5</td>\n",
       "      <td>6.2</td>\n",
       "    </tr>\n",
       "    <tr>\n",
       "      <th>2</th>\n",
       "      <td>10003</td>\n",
       "      <td>79088.0</td>\n",
       "      <td>56909</td>\n",
       "      <td>8.1</td>\n",
       "      <td>78.3</td>\n",
       "      <td>6.6</td>\n",
       "      <td>7.0</td>\n",
       "    </tr>\n",
       "    <tr>\n",
       "      <th>3</th>\n",
       "      <td>10004</td>\n",
       "      <td>98020.0</td>\n",
       "      <td>3024</td>\n",
       "      <td>2.5</td>\n",
       "      <td>86.0</td>\n",
       "      <td>8.1</td>\n",
       "      <td>3.5</td>\n",
       "    </tr>\n",
       "    <tr>\n",
       "      <th>4</th>\n",
       "      <td>10005</td>\n",
       "      <td>99633.0</td>\n",
       "      <td>7566</td>\n",
       "      <td>0.7</td>\n",
       "      <td>90.9</td>\n",
       "      <td>7.5</td>\n",
       "      <td>0.9</td>\n",
       "    </tr>\n",
       "  </tbody>\n",
       "</table>\n",
       "</div>"
      ],
      "text/plain": [
       "   Zipcode  IncomePerCapita  TotalPop  Public  Private  NoCoverage  Both\n",
       "0    10001          77512.0     22767    17.6     65.9         8.6   7.8\n",
       "1    10002          26905.0     79490    44.3     38.0        11.5   6.2\n",
       "2    10003          79088.0     56909     8.1     78.3         6.6   7.0\n",
       "3    10004          98020.0      3024     2.5     86.0         8.1   3.5\n",
       "4    10005          99633.0      7566     0.7     90.9         7.5   0.9"
      ]
     },
     "execution_count": 9,
     "metadata": {},
     "output_type": "execute_result"
    }
   ],
   "source": [
    "ex2 = ex2.dropna()\n",
    "ex2['Public'] = np.round(ex2.Public / ex2.TotalPop, 3) * 100\n",
    "ex2['Private'] = np.round(ex2.Private / ex2.TotalPop, 3) * 100\n",
    "ex2['NoCoverage'] = np.round(ex2.NoCoverage / ex2.TotalPop, 3) * 100\n",
    "ex2['Both'] = np.round(ex2.Both / ex2.TotalPop, 3) * 100\n",
    "print('(c)')\n",
    "ex2.head()"
   ]
  },
  {
   "cell_type": "code",
   "execution_count": 10,
   "metadata": {
    "collapsed": false
   },
   "outputs": [
    {
     "name": "stdout",
     "output_type": "stream",
     "text": [
      "X_insurance[0]   -452.546411\n",
      "X_insurance[1]    946.012419\n",
      "X_insurance[2]    355.174595\n",
      "dtype: float64\n"
     ]
    }
   ],
   "source": [
    "X_insurance = np.matrix(ex2.loc[:,['Public','Private','Both']])\n",
    "y_insurance = np.matrix(ex2.IncomePerCapita).T\n",
    "lm1 = smf.ols('y_insurance ~ X_insurance-1',data=ex2).fit()\n",
    "print(lm1.params)"
   ]
  },
  {
   "cell_type": "markdown",
   "metadata": {},
   "source": [
    "(d) Given the results above, it appears that zip codes with high levels of private coverage have a significantly higher than average expected income, while zip codes with higher levels of public coverage have lower expected income have lower than average expected incomes. Interestingly, zip codes with high levels of people who have *both* private and public insurance, while still having higher than average expected income, have significantly less than those with a predominance of *only* private insurance. <br>\n",
    "(n.b. I chose to set the intercept to zero, as most people (grad students not included!) don't make negative income in a year. Regardless, the results are similar, just with a negative intercept, if a non-zero intercept is allowed)"
   ]
  },
  {
   "cell_type": "code",
   "execution_count": 23,
   "metadata": {
    "collapsed": false
   },
   "outputs": [
    {
     "data": {
      "image/png": "[encoded data removed]",
      "text/plain": [
       "<matplotlib.figure.Figure at 0x7f6196584a90>"
      ]
     },
     "metadata": {},
     "output_type": "display_data"
    },
    {
     "name": "stdout",
     "output_type": "stream",
     "text": [
      "           observed  predicted\n",
      "observed   1.000000   0.781912\n",
      "predicted  0.781912   1.000000\n"
     ]
    }
   ],
   "source": [
    "plt.scatter(x=ex2.IncomePerCapita, y=lm1.predict())\n",
    "plt.axis([0,175000,0,100000])\n",
    "plt.show()\n",
    "incomes = {'observed':ex2.IncomePerCapita, 'predicted':lm1.predict()}\n",
    "Incomes = pd.DataFrame.from_dict(incomes)\n",
    "print(Incomes.corr())"
   ]
  },
  {
   "cell_type": "markdown",
   "metadata": {},
   "source": [
    "(e)<br>\n",
    "The graph and correlation table above show that there is a strong (though far from perfect) correlation between actual and predicted incomes, using our model."
   ]
  },
  {
   "cell_type": "markdown",
   "metadata": {},
   "source": [
    "## EX 3, Polynomial fit (40+30pt -- 4+5+3$\\times$4+5+3$\\times$3+5+30)\n",
    "\n",
    "### Try to fit y with a polynomial $$\\hat y(x,w) = \\sum\\limits_{i=1}^M w_i\\cdot x^i$$ with the given dataset 'H33.csv'\n",
    "\n",
    "### Tasks:\n",
    "* (a) Draw the scatter plot of x and y, guess what polynomial could be the best choice. (The name \"x1\" denotes $x^1$.)\n",
    "* (b) Create new columns in data frame to contain the information of $x^2, x^3, x^4$\n",
    "* (c) Try to fit y with polynomial of x with order 1, 2, 3, 4, respectively\n",
    "    * For each model, store your fitted parameters as well as your $R^2$\n",
    "* (d) Report the $R^2$, plot it and observe how it changes\n",
    "* (e) Create a figure with four (4) subfigures, one for each polynomial degree M = 1, 2, 3, 4. In each subfigure:\n",
    "    * (e.1) Draw the original scatter plot of x1 and y\n",
    "    * (e.2) Plot the curve of true function $f(x) = 9x^2 - x + 1$\n",
    "    * (e.3) Plot your fitted curve of degree M, observe how our model fits the data as M increases\n",
    "* (f) Based on the plot, which model(s) fits the true curve best? Then provide the best coefficients $\\hat w$\n",
    "### Extra credit\n",
    "* (g) In each subfigure:\n",
    "    * (g.1) Pick an x value (at your discretion) $x_0$, then locate the y value both on your fitted curve and on our function curve ($f(x_0)$)\n",
    "    * (g.2) Mark these two points with a small diamond, then draw a dashed line connecting them, showing \"prediction error\"\n",
    "    * (g.3) Repeat g.1 and g.2 up to ten times (i.e. select up to ten random different future points and predict their values, compare your prediction with the true value), then:\n",
    "        * Compute the average sum of squares of errors $E = \\frac{\\sum_i^n (y_i - f(x_i))^2}{n}$ ($x_i$ denotes your future points), mention it in your subfigure's title (**Be sure to use the SAME future points for ALL 4 models when you calculate prediction error**)\n",
    "        * Which model has the smallest average error $E$? Does this fitted polynomial coincides with the M you picked in part f?"
   ]
  },
  {
   "cell_type": "code",
   "execution_count": 12,
   "metadata": {
    "collapsed": false
   },
   "outputs": [
    {
     "data": {
      "text/html": [
       "<div>\n",
       "<table border=\"1\" class=\"dataframe\">\n",
       "  <thead>\n",
       "    <tr style=\"text-align: right;\">\n",
       "      <th></th>\n",
       "      <th>y</th>\n",
       "      <th>x1</th>\n",
       "    </tr>\n",
       "  </thead>\n",
       "  <tbody>\n",
       "    <tr>\n",
       "      <th>0</th>\n",
       "      <td>2.613388</td>\n",
       "      <td>-0.50</td>\n",
       "    </tr>\n",
       "    <tr>\n",
       "      <th>1</th>\n",
       "      <td>2.170351</td>\n",
       "      <td>-0.32</td>\n",
       "    </tr>\n",
       "    <tr>\n",
       "      <th>2</th>\n",
       "      <td>0.049546</td>\n",
       "      <td>-0.14</td>\n",
       "    </tr>\n",
       "    <tr>\n",
       "      <th>3</th>\n",
       "      <td>1.158258</td>\n",
       "      <td>0.04</td>\n",
       "    </tr>\n",
       "    <tr>\n",
       "      <th>4</th>\n",
       "      <td>1.397567</td>\n",
       "      <td>0.22</td>\n",
       "    </tr>\n",
       "    <tr>\n",
       "      <th>5</th>\n",
       "      <td>1.773240</td>\n",
       "      <td>0.40</td>\n",
       "    </tr>\n",
       "  </tbody>\n",
       "</table>\n",
       "</div>"
      ],
      "text/plain": [
       "          y    x1\n",
       "0  2.613388 -0.50\n",
       "1  2.170351 -0.32\n",
       "2  0.049546 -0.14\n",
       "3  1.158258  0.04\n",
       "4  1.397567  0.22\n",
       "5  1.773240  0.40"
      ]
     },
     "execution_count": 12,
     "metadata": {},
     "output_type": "execute_result"
    }
   ],
   "source": [
    "ex3 = pd.read_csv('H33.csv')\n",
    "ex3"
   ]
  },
  {
   "cell_type": "code",
   "execution_count": 13,
   "metadata": {
    "collapsed": false
   },
   "outputs": [
    {
     "data": {
      "text/plain": [
       "<matplotlib.axes._subplots.AxesSubplot at 0x7f61963e6490>"
      ]
     },
     "execution_count": 13,
     "metadata": {},
     "output_type": "execute_result"
    },
    {
     "data": {
      "image/png": "[encoded data removed]",
      "text/plain": [
       "<matplotlib.figure.Figure at 0x7f61962c4290>"
      ]
     },
     "metadata": {},
     "output_type": "display_data"
    }
   ],
   "source": [
    "ex3.plot(kind='scatter', x='x1',y='y')"
   ]
  },
  {
   "cell_type": "markdown",
   "metadata": {},
   "source": [
    "(a) This seems to be an absolute value function, with y[2] being the only value really out of place. That's my best guess anyways, and I guess we'll see as more values get added..."
   ]
  },
  {
   "cell_type": "code",
   "execution_count": 14,
   "metadata": {
    "collapsed": false
   },
   "outputs": [
    {
     "name": "stdout",
     "output_type": "stream",
     "text": [
      "(b)\n"
     ]
    },
    {
     "data": {
      "text/html": [
       "<div>\n",
       "<table border=\"1\" class=\"dataframe\">\n",
       "  <thead>\n",
       "    <tr style=\"text-align: right;\">\n",
       "      <th></th>\n",
       "      <th>y</th>\n",
       "      <th>x1</th>\n",
       "      <th>x2</th>\n",
       "      <th>x3</th>\n",
       "      <th>x4</th>\n",
       "    </tr>\n",
       "  </thead>\n",
       "  <tbody>\n",
       "    <tr>\n",
       "      <th>0</th>\n",
       "      <td>2.613388</td>\n",
       "      <td>-0.50</td>\n",
       "      <td>0.2500</td>\n",
       "      <td>-0.125000</td>\n",
       "      <td>0.062500</td>\n",
       "    </tr>\n",
       "    <tr>\n",
       "      <th>1</th>\n",
       "      <td>2.170351</td>\n",
       "      <td>-0.32</td>\n",
       "      <td>0.1024</td>\n",
       "      <td>-0.032768</td>\n",
       "      <td>0.010486</td>\n",
       "    </tr>\n",
       "    <tr>\n",
       "      <th>2</th>\n",
       "      <td>0.049546</td>\n",
       "      <td>-0.14</td>\n",
       "      <td>0.0196</td>\n",
       "      <td>-0.002744</td>\n",
       "      <td>0.000384</td>\n",
       "    </tr>\n",
       "    <tr>\n",
       "      <th>3</th>\n",
       "      <td>1.158258</td>\n",
       "      <td>0.04</td>\n",
       "      <td>0.0016</td>\n",
       "      <td>0.000064</td>\n",
       "      <td>0.000003</td>\n",
       "    </tr>\n",
       "    <tr>\n",
       "      <th>4</th>\n",
       "      <td>1.397567</td>\n",
       "      <td>0.22</td>\n",
       "      <td>0.0484</td>\n",
       "      <td>0.010648</td>\n",
       "      <td>0.002343</td>\n",
       "    </tr>\n",
       "    <tr>\n",
       "      <th>5</th>\n",
       "      <td>1.773240</td>\n",
       "      <td>0.40</td>\n",
       "      <td>0.1600</td>\n",
       "      <td>0.064000</td>\n",
       "      <td>0.025600</td>\n",
       "    </tr>\n",
       "  </tbody>\n",
       "</table>\n",
       "</div>"
      ],
      "text/plain": [
       "          y    x1      x2        x3        x4\n",
       "0  2.613388 -0.50  0.2500 -0.125000  0.062500\n",
       "1  2.170351 -0.32  0.1024 -0.032768  0.010486\n",
       "2  0.049546 -0.14  0.0196 -0.002744  0.000384\n",
       "3  1.158258  0.04  0.0016  0.000064  0.000003\n",
       "4  1.397567  0.22  0.0484  0.010648  0.002343\n",
       "5  1.773240  0.40  0.1600  0.064000  0.025600"
      ]
     },
     "execution_count": 14,
     "metadata": {},
     "output_type": "execute_result"
    }
   ],
   "source": [
    "ex3['x2'] = ex3.x1 ** 2\n",
    "ex3['x3'] = ex3.x1 ** 3\n",
    "ex3['x4'] = ex3.x1 ** 4\n",
    "print('(b)')\n",
    "ex3"
   ]
  },
  {
   "cell_type": "code",
   "execution_count": 15,
   "metadata": {
    "collapsed": false
   },
   "outputs": [
    {
     "name": "stdout",
     "output_type": "stream",
     "text": [
      "(c)\n",
      "  models  intercept      slope  r_squared\n",
      "0  lm_x1   1.484119  -0.858791   0.104796\n",
      "1  lm_x2   0.789677   7.601874   0.649677\n",
      "2  lm_x3   1.426492  -7.032617   0.244027\n",
      "3  lm_x4   1.071264  26.992720   0.541640\n"
     ]
    }
   ],
   "source": [
    "lm_x1 = smf.ols('y ~ x1',data=ex3).fit()\n",
    "lm_x2 = smf.ols('y ~ x2',data=ex3).fit()\n",
    "lm_x3 = smf.ols('y ~ x3',data=ex3).fit()\n",
    "lm_x4 = smf.ols('y ~ x4',data=ex3).fit()\n",
    "\n",
    "models = [lm_x1, lm_x2, lm_x3, lm_x4]\n",
    "model_names = ['lm_x1','lm_x2', 'lm_x3', 'lm_x4']\n",
    "intercept = []\n",
    "slope = []\n",
    "r_squared = []\n",
    "\n",
    "for mod in models:\n",
    "    intercept.append(mod.params[0])\n",
    "    slope.append(mod.params[1])\n",
    "    r_squared.append(mod.rsquared)\n",
    "    \n",
    "Params = {'models':model_names,\n",
    "          'intercept':intercept,\n",
    "          'slope':slope,\n",
    "          'r_squared':r_squared}\n",
    "Params = pd.DataFrame.from_dict(Params)\n",
    "Params = Params[['models', 'intercept', 'slope', 'r_squared']]\n",
    "print('(c)')\n",
    "print(Params)"
   ]
  },
  {
   "cell_type": "code",
   "execution_count": 16,
   "metadata": {
    "collapsed": false
   },
   "outputs": [
    {
     "data": {
      "image/png": "[encoded data removed]",
      "text/plain": [
       "<matplotlib.figure.Figure at 0x7f61963e6410>"
      ]
     },
     "metadata": {},
     "output_type": "display_data"
    }
   ],
   "source": [
    "ax = Params.plot(kind='bar',y='r_squared', x='models',rot=0)\n",
    "ax.set_ylabel('$R^2$')\n",
    "ax.set_title('R-squared by Model')\n",
    "plt.show()"
   ]
  },
  {
   "cell_type": "markdown",
   "metadata": {},
   "source": [
    "(d)<br>\n",
    "As we see in the graph above (and by looking at the dataframe; it's pretty small!), our r_squared makes a large jump when we initially square the values of x, however, it quickly sinks back down, only to spike up again (though not as high) when we raise it to the fourth power. This seems to indicate that a proper fit would most resemble an exponential to an even power (giving a 'U' shape), and probably not a particularly steep one. "
   ]
  },
  {
   "cell_type": "code",
   "execution_count": 17,
   "metadata": {
    "collapsed": false
   },
   "outputs": [
    {
     "name": "stdout",
     "output_type": "stream",
     "text": [
      "(e)\n"
     ]
    },
    {
     "data": {
      "image/png": "[encoded data removed]",
      "text/plain": [
       "<matplotlib.figure.Figure at 0x7f6193ffef50>"
      ]
     },
     "metadata": {},
     "output_type": "display_data"
    }
   ],
   "source": [
    "print('(e)')\n",
    "fig, ax = plt.subplots(2,2, sharey=True, sharex=True, figsize=(12,12))\n",
    "\n",
    "x = linspace(-0.5,0.5,1000)\n",
    "y = 9 * x**2 - x + 1\n",
    "\n",
    "x_pred = np.array(ex3['x1'])\n",
    "y_pred1=lm_x1.predict()\n",
    "y_pred2=lm_x2.predict()\n",
    "y_pred3=lm_x3.predict()\n",
    "y_pred4=lm_x4.predict()\n",
    "\n",
    "ax[0, 0].plot(x,y,color='red', alpha=0.4)\n",
    "ax[0, 0].scatter(x=ex3['x1'],y=ex3['y'], color='red')\n",
    "ax[0, 0].plot(x_pred, y_pred1, color='b')\n",
    "ax[0, 0].set_title('$x^1$', fontsize=16)\n",
    "\n",
    "ax[0, 1].plot(x,y,color='red', alpha=0.4)\n",
    "ax[0, 1].scatter(x=ex3['x1'],y=ex3['y'], color='red')\n",
    "ax[0, 1].plot(x_pred, y_pred2, color='b')\n",
    "ax[0, 1].set_title('$x^2$', fontsize=16)\n",
    "\n",
    "ax[1, 0].plot(x,y,color='red', alpha=0.4)\n",
    "ax[1, 0].scatter(x=ex3['x1'],y=ex3['y'], color='red')\n",
    "ax[1, 0].plot(x_pred, y_pred3, color='b')\n",
    "ax[1, 0].set_title('$x^3$', fontsize=16)\n",
    "\n",
    "ax[1, 1].plot(x,y,color='red', alpha=0.4)\n",
    "ax[1, 1].scatter(x=ex3['x1'],y=ex3['y'], color='red')\n",
    "ax[1, 1].plot(x_pred, y_pred4, color='b')\n",
    "ax[1, 1].set_title('$x^4$', fontsize=16)\n",
    "\n",
    "plt.show()"
   ]
  },
  {
   "cell_type": "markdown",
   "metadata": {
    "collapsed": false
   },
   "source": [
    "(f)<br>\n",
    "We can see from these plots that the model with $x^2$ best fits our plots, which is in line with the prediction we made earlier from observing the r_squared values. The intercept for this model is 0.789, and the parameter is 7.602."
   ]
  }
 ],
 "metadata": {
  "kernelspec": {
   "display_name": "PUI2016_Python2",
   "language": "python",
   "name": "pui2016_python2"
  },
  "language_info": {
   "codemirror_mode": {
    "name": "ipython",
    "version": 2
   },
   "file_extension": ".py",
   "mimetype": "text/x-python",
   "name": "python",
   "nbconvert_exporter": "python",
   "pygments_lexer": "ipython2",
   "version": "2.7.12"
  }
 },
 "nbformat": 4,
 "nbformat_minor": 0
}

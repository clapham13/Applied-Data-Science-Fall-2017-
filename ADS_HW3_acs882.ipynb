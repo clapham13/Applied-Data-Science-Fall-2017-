{
 "cells": [
  {
   "cell_type": "markdown",
   "metadata": {},
   "source": [
    "# ADS, fall 2017. Homework 3"
   ]
  },
  {
   "cell_type": "markdown",
   "metadata": {},
   "source": [
    "### Q1 (10 points). P-values and hypothesis testing\n",
    "Suppose that a multiple regression with 10 regressors gave the following p-values for each of them (the value below are NOT in percents yet):\n",
    "\n",
    "0.02, 0.1, 3e-15, 0.5, 0.04, 0.001, 0.06, 0.03, 0.045, 5e-3.\n",
    "\n",
    "For how many regressors you would reject the null-hypothesis that their corresponding regression coefficient is zero? Please explain."
   ]
  },
  {
   "cell_type": "markdown",
   "metadata": {
    "collapsed": true
   },
   "source": [
    "**Answer:**\n",
    "7, if we are using 0.05 as our threshold, we would reject the null hypothesis for values below 0.05; there are 7 such values in this sample. "
   ]
  },
  {
   "cell_type": "markdown",
   "metadata": {},
   "source": [
    "### Q2 (15 points). Confidence intervals\n",
    "Assume we perform a regression and get an estimate 100 for the slope coefficient for the regressor of interest. Select all statements that can not be true for its confidence intervals:\n",
    "\n",
    "a. 99%-conficence interval is [99.99,100.01]\n",
    "\n",
    "b. 95%-confidence interval is [-300, 300]\n",
    "\n",
    "c. 98%-confidence interval is [95, 105], while 90%-confidence interval is [90, 110].\n",
    "\n",
    "d. 99%-confidence interval is [99,100]\n",
    "\n",
    "Explain your choices"
   ]
  },
  {
   "cell_type": "markdown",
   "metadata": {
    "collapsed": true
   },
   "source": [
    "**Answer:**<br>B cannot be, as it is not evenly distributed around 100 (300 is 200 above, while -300 is 400 below)<br>\n",
    "C cannot be either, as the 98% confidence interval is inside the 90% confidence interval, which is impossible, as a greater interval is necessarily greater than or equal to a smaller one. <br>\n",
    "D cannot be a confidence interval, either, as it includes the estimate on the right, but has a different value on the left, meaning it runs into the same issue as B, in that it is not normally distributed."
   ]
  },
  {
   "cell_type": "markdown",
   "metadata": {},
   "source": [
    "### Q3 (15 points). \n",
    "\n",
    "A linear regression model is fit over a dataset with 181 observations and 'n' features. The estimate for the regression coefficient for one of the features is 911.0964 while its standard error is 344.185.\n",
    "\n",
    "What will be the \n",
    "a) 95, 99 and 90% confidence intervals? \n",
    "b) p-values?"
   ]
  },
  {
   "cell_type": "code",
   "execution_count": 50,
   "metadata": {
    "collapsed": true
   },
   "outputs": [],
   "source": [
    "import scipy.stats as sp"
   ]
  },
  {
   "cell_type": "code",
   "execution_count": 1,
   "metadata": {
    "collapsed": false
   },
   "outputs": [
    {
     "name": "stdout",
     "output_type": "stream",
     "text": [
      "90% confidence: (344.91207, 1477.28073)   p-value: 0.1\n",
      "95% confidence: (236.4938, 1585.699)      p-value: 0.05\n",
      "99% confidence: (24.47584, 1797.71696)    p-value: 0.01\n"
     ]
    }
   ],
   "source": [
    "import numpy as np\n",
    "from __future__ import division, print_function\n",
    "conf99 = 2.576\n",
    "conf95 = 1.96\n",
    "conf90 = 1.645\n",
    "\n",
    "conf_90 = (round(911.0964 - conf90 * (344.185),5), \n",
    "           round(911.0964 + conf90 * (344.185),5))\n",
    "print('90% confidence:',conf_90, '  p-value: 0.1')\n",
    "\n",
    "conf_95 = (round(911.0964 - conf95 * (344.185),5), \n",
    "           round(911.0964 + conf95 * (344.185),5))\n",
    "print('95% confidence:',conf_95, '     p-value: 0.05')\n",
    "\n",
    "conf_99 = (round(911.0964 - conf99 * (344.185),5), \n",
    "           round(911.0964 + conf99 * (344.185),5))\n",
    "print('99% confidence:',conf_99, '   p-value: 0.01')\n"
   ]
  },
  {
   "cell_type": "markdown",
   "metadata": {},
   "source": [
    "### Q4.(ACS Data Set, 30pts)\n",
    "\n",
    "We'll be using the ACS dataset provided below.\n",
    "\n",
    "Survey:           ACS 2015 (5-Year Estimates)\n",
    "Dataset:          Social Explorer Tables:  ACS 2015 (5-Year Estimates)\n",
    "\n",
    "**VARIABLE DESCRIPTIONS:** (Data was collected in 2015)\n",
    "\n",
    "Tables:\n",
    "\n",
    "      1. Population Density (per Sq. Mile)\n",
    "         Universe:  Total Population\n",
    "         Name:      T2\n",
    "         Variables:\n",
    "            T002_001:   Total Population\n",
    "            T002_002:   Population Density (Per Sq. Mile)\n",
    "            T002_003:   Area (Land)\n",
    "\n",
    "\n",
    "      2. Average Household Size\n",
    "         Universe:  Occupied Households\n",
    "         Name:      T21\n",
    "         Variables:\n",
    "            T021_001:   Average Household Size\n",
    "\n",
    "\n",
    "\n",
    "      3. Median Household Income (In <DollarYear> Inflation Adjusted Dollars)\n",
    "         Universe:  Households\n",
    "         Name:      T57\n",
    "         Variables:\n",
    "            T057_001:   Median Household Income (In 2015 Inflation Adjusted Dollars)\n",
    "\n",
    "\n",
    "      4. Per Capita Income (In <DollarYear> Inflation Adjusted Dollars)\n",
    "         Universe:  Total Population\n",
    "         Name:      T83\n",
    "         Variables:\n",
    "            T083_001:   Per Capita Income (In 2015 Inflation Adjusted Dollars)\n",
    "\n",
    " \n",
    "      5. Median Gross Rent\n",
    "          Universe:  Renter-occupied housing units paying cash rent\n",
    "          Name:      T104\n",
    "          Variables:\n",
    "             T104_001:   Median Gross Rent\n",
    "\n",
    "\n",
    "      6. Ratio of Income in 2015 to Poverty Level\n",
    "          Universe:  Population for whom poverty status Is determined\n",
    "          Name:      T117\n",
    "          Variables:\n",
    "             T117_001:   Population for Whom Poverty Status Is Determined:\n",
    "\n",
    "      7. Average Commute to Work (in Min)\n",
    "          Universe:  Average Commute to Work (in min)\n",
    "          Name:      T147\n",
    "          Variables:\n",
    "             T147_001:   Average Commute to Work (in Min)\n",
    "\n",
    "\n",
    "Run the regression modeling the median household income through all the features above and analyse its statistics. Based on the results, suppose X(s) is the predicted median household income for the household of the size s and if deltaX=X(s+1)-X(s) then calculate:\n",
    "* (a) What's the expected price E(X)?\n",
    "* (b) What's the probability that X > \\$15000?  \n",
    "* (c) What's the two-sided 80% confidence interval of X?\n",
    "* (d) What's the one-sided 98% confidence interval of X? Calculate the upper interval $[X_0, +\\infty)$,"
   ]
  },
  {
   "cell_type": "code",
   "execution_count": 30,
   "metadata": {
    "collapsed": true
   },
   "outputs": [],
   "source": [
    "import pandas as pd\n",
    "import scipy as sp"
   ]
  },
  {
   "cell_type": "code",
   "execution_count": 3,
   "metadata": {
    "collapsed": false
   },
   "outputs": [
    {
     "data": {
      "text/html": [
       "<div>\n",
       "<style>\n",
       "    .dataframe thead tr:only-child th {\n",
       "        text-align: right;\n",
       "    }\n",
       "\n",
       "    .dataframe thead th {\n",
       "        text-align: left;\n",
       "    }\n",
       "\n",
       "    .dataframe tbody tr th {\n",
       "        vertical-align: top;\n",
       "    }\n",
       "</style>\n",
       "<table border=\"1\" class=\"dataframe\">\n",
       "  <thead>\n",
       "    <tr style=\"text-align: right;\">\n",
       "      <th></th>\n",
       "      <th>Unnamed: 0</th>\n",
       "      <th>Geo_FIPS</th>\n",
       "      <th>Geo_GEOID</th>\n",
       "      <th>Population_Density</th>\n",
       "      <th>Average_Household_Size</th>\n",
       "      <th>Median_Household_Income</th>\n",
       "      <th>Per_Capita_Income</th>\n",
       "      <th>Median_Value</th>\n",
       "      <th>Poverty_Status</th>\n",
       "      <th>Average_Commute_to_Work</th>\n",
       "    </tr>\n",
       "  </thead>\n",
       "  <tbody>\n",
       "    <tr>\n",
       "      <th>0</th>\n",
       "      <td>2</td>\n",
       "      <td>36061000202</td>\n",
       "      <td>14000US36061000202</td>\n",
       "      <td>67374.02</td>\n",
       "      <td>2.15</td>\n",
       "      <td>29684.0</td>\n",
       "      <td>27355.0</td>\n",
       "      <td>533600.0</td>\n",
       "      <td>7768</td>\n",
       "      <td>31.0</td>\n",
       "    </tr>\n",
       "    <tr>\n",
       "      <th>1</th>\n",
       "      <td>4</td>\n",
       "      <td>36061000600</td>\n",
       "      <td>14000US36061000600</td>\n",
       "      <td>128089.30</td>\n",
       "      <td>2.92</td>\n",
       "      <td>19863.0</td>\n",
       "      <td>12802.0</td>\n",
       "      <td>521200.0</td>\n",
       "      <td>12378</td>\n",
       "      <td>30.0</td>\n",
       "    </tr>\n",
       "    <tr>\n",
       "      <th>2</th>\n",
       "      <td>5</td>\n",
       "      <td>36061000700</td>\n",
       "      <td>14000US36061000700</td>\n",
       "      <td>89695.05</td>\n",
       "      <td>1.92</td>\n",
       "      <td>117841.0</td>\n",
       "      <td>89303.0</td>\n",
       "      <td>1035900.0</td>\n",
       "      <td>8794</td>\n",
       "      <td>25.0</td>\n",
       "    </tr>\n",
       "    <tr>\n",
       "      <th>3</th>\n",
       "      <td>6</td>\n",
       "      <td>36061000800</td>\n",
       "      <td>14000US36061000800</td>\n",
       "      <td>112643.90</td>\n",
       "      <td>2.63</td>\n",
       "      <td>27137.0</td>\n",
       "      <td>17426.0</td>\n",
       "      <td>588100.0</td>\n",
       "      <td>9465</td>\n",
       "      <td>33.0</td>\n",
       "    </tr>\n",
       "    <tr>\n",
       "      <th>4</th>\n",
       "      <td>7</td>\n",
       "      <td>36061000900</td>\n",
       "      <td>14000US36061000900</td>\n",
       "      <td>12507.00</td>\n",
       "      <td>2.14</td>\n",
       "      <td>147500.0</td>\n",
       "      <td>111599.0</td>\n",
       "      <td>1000000.0</td>\n",
       "      <td>1626</td>\n",
       "      <td>26.0</td>\n",
       "    </tr>\n",
       "  </tbody>\n",
       "</table>\n",
       "</div>"
      ],
      "text/plain": [
       "   Unnamed: 0     Geo_FIPS           Geo_GEOID  Population_Density  \\\n",
       "0           2  36061000202  14000US36061000202            67374.02   \n",
       "1           4  36061000600  14000US36061000600           128089.30   \n",
       "2           5  36061000700  14000US36061000700            89695.05   \n",
       "3           6  36061000800  14000US36061000800           112643.90   \n",
       "4           7  36061000900  14000US36061000900            12507.00   \n",
       "\n",
       "   Average_Household_Size  Median_Household_Income  Per_Capita_Income  \\\n",
       "0                    2.15                  29684.0            27355.0   \n",
       "1                    2.92                  19863.0            12802.0   \n",
       "2                    1.92                 117841.0            89303.0   \n",
       "3                    2.63                  27137.0            17426.0   \n",
       "4                    2.14                 147500.0           111599.0   \n",
       "\n",
       "   Median_Value  Poverty_Status  Average_Commute_to_Work  \n",
       "0      533600.0            7768                     31.0  \n",
       "1      521200.0           12378                     30.0  \n",
       "2     1035900.0            8794                     25.0  \n",
       "3      588100.0            9465                     33.0  \n",
       "4     1000000.0            1626                     26.0  "
      ]
     },
     "execution_count": 3,
     "metadata": {},
     "output_type": "execute_result"
    }
   ],
   "source": [
    "df = pd.read_csv('file4.csv')\n",
    "df.head()"
   ]
  },
  {
   "cell_type": "code",
   "execution_count": 18,
   "metadata": {
    "collapsed": false
   },
   "outputs": [
    {
     "name": "stdout",
     "output_type": "stream",
     "text": [
      "Expected Value = 92247.8471616\n"
     ]
    }
   ],
   "source": [
    "import statsmodels.formula.api as smf\n",
    "lm = smf.ols(formula='Median_Household_Income ~ Population_Density + \\\n",
    "             Average_Household_Size + Per_Capita_Income + Median_Value + \\\n",
    "             Poverty_Status + Average_Commute_to_Work', data = df).fit()\n",
    "print('Expected Value =', lm.fittedvalues.mean())"
   ]
  },
  {
   "cell_type": "code",
   "execution_count": 34,
   "metadata": {
    "collapsed": false
   },
   "outputs": [
    {
     "name": "stdout",
     "output_type": "stream",
     "text": [
      "Probability X > 15,000: 96.318%\n"
     ]
    }
   ],
   "source": [
    "mean = lm.fittedvalues.mean()\n",
    "std = lm.fittedvalues.std()\n",
    "cnt = lm.fittedvalues.count()\n",
    "st_err = std / np.sqrt(cnt)\n",
    "z_score = (15000 - mean) / std\n",
    "z_score\n",
    "print('Probability X > 15,000: ' + str(round(sp.stats.norm.cdf(abs(z_score))*100,3)) + '%')"
   ]
  },
  {
   "cell_type": "code",
   "execution_count": 49,
   "metadata": {
    "collapsed": false
   },
   "outputs": [
    {
     "name": "stdout",
     "output_type": "stream",
     "text": [
      "Two-sided 80% confidence interval of X: (88595.096619193864, 95900.597703950465)\n",
      "One-sided 98% confidence interval of X: (86397.738871, +∞)\n"
     ]
    }
   ],
   "source": [
    "conf80 = (mean - 1.28 * st_err, mean + 1.28 * st_err) \n",
    "print('Two-sided 80% confidence interval of X:', conf80)\n",
    "conf98_one_sided_low = (mean - 2.05 * st_err)\n",
    "print('One-sided 98% confidence interval of X: (' + str(conf98_one_sided_low) + ', +∞)')"
   ]
  },
  {
   "cell_type": "markdown",
   "metadata": {},
   "source": [
    "### Q5 (30 points). Data visualization using PCA\n",
    "We'll be using the breast cancer dataset from sklearn for this problem.\n",
    "\n",
    "a) For the given labeled data perform PCA and visualize (using bar-plot) the fraction of variance explained by each principle components.\n",
    "\n",
    "b) Visualize the observations along the first two principle components with colors depending on the label."
   ]
  },
  {
   "cell_type": "code",
   "execution_count": 10,
   "metadata": {
    "collapsed": true
   },
   "outputs": [],
   "source": [
    "from sklearn.datasets import load_breast_cancer\n",
    "X, y = load_breast_cancer(return_X_y=True)"
   ]
  },
  {
   "cell_type": "code",
   "execution_count": 11,
   "metadata": {
    "collapsed": false
   },
   "outputs": [
    {
     "name": "stdout",
     "output_type": "stream",
     "text": [
      "(569, 30) 569\n"
     ]
    }
   ],
   "source": [
    "print (X.shape, len(y))"
   ]
  },
  {
   "cell_type": "code",
   "execution_count": 39,
   "metadata": {
    "collapsed": false
   },
   "outputs": [
    {
     "name": "stdout",
     "output_type": "stream",
     "text": [
      "[ 0.98204467  0.01617649  0.00155751]\n"
     ]
    },
    {
     "data": {
      "image/png": "[encoded data removed]",
      "text/plain": [
       "<matplotlib.figure.Figure at 0x7fdc0f828610>"
      ]
     },
     "metadata": {},
     "output_type": "display_data"
    }
   ],
   "source": [
    "from sklearn.decomposition import PCA\n",
    "import matplotlib.pyplot as plt\n",
    "%matplotlib inline\n",
    "n=3 # how many eigenvectors we choose\n",
    "pca = PCA(n)\n",
    "Xproj = pca.fit_transform(X)\n",
    "eigenvalues = pca.explained_variance_\n",
    "print (pca.explained_variance_ratio_)\n",
    "plt.bar(np.arange(n), eigenvalues)\n",
    "plt.xlabel(\"Dimensionality\")\n",
    "plt.ylabel(\"Variance\")\n",
    "plt.show()"
   ]
  },
  {
   "cell_type": "code",
   "execution_count": 13,
   "metadata": {
    "collapsed": false
   },
   "outputs": [
    {
     "data": {
      "text/plain": [
       "0.99977867211918714"
      ]
     },
     "execution_count": 13,
     "metadata": {},
     "output_type": "execute_result"
    }
   ],
   "source": [
    "pca.explained_variance_ratio_.sum()"
   ]
  },
  {
   "cell_type": "code",
   "execution_count": 14,
   "metadata": {
    "collapsed": false
   },
   "outputs": [
    {
     "data": {
      "image/png": "[encoded data removed]",
      "text/plain": [
       "<matplotlib.figure.Figure at 0x7fdbf001b790>"
      ]
     },
     "metadata": {},
     "output_type": "display_data"
    }
   ],
   "source": [
    "plt.figure(2, figsize=(8, 6))\n",
    "plt.clf()\n",
    "# Plot the training points\n",
    "plt.scatter(Xproj[:, 0], Xproj[:, 1], c=y, cmap=plt.cm.cool)\n",
    "plt.xlabel('First eigenvector')\n",
    "plt.ylabel('Second eigenvector')\n",
    "plt.show()"
   ]
  }
 ],
 "metadata": {
  "kernelspec": {
   "display_name": "Python 2",
   "language": "python",
   "name": "python2"
  },
  "language_info": {
   "codemirror_mode": {
    "name": "ipython",
    "version": 2
   },
   "file_extension": ".py",
   "mimetype": "text/x-python",
   "name": "python",
   "nbconvert_exporter": "python",
   "pygments_lexer": "ipython2",
   "version": "2.7.11"
  }
 },
 "nbformat": 4,
 "nbformat_minor": 1
}
